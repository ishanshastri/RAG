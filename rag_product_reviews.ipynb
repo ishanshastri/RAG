{
 "cells": [
  {
   "cell_type": "code",
   "execution_count": 2,
   "metadata": {},
   "outputs": [],
   "source": [
    "import numpy as np\n",
    "\n",
    "# Webscraping functionality\n"
   ]
  },
  {
   "cell_type": "code",
   "execution_count": 3,
   "metadata": {},
   "outputs": [],
   "source": [
    "\n",
    "import requests\n",
    "request_headers = {\n",
    "    'user-agent': 'Mozilla/5.0 (Macintosh; Intel Mac OS X 10_15_7) AppleWebKit/537.36 (KHTML, like Gecko) Chrome/127.0.0.0 Safari/537.36',#'Mozilla/5.0 (Windows NT 10.0; Win64; x64) AppleWebKit/537.36 (KHTML, like Gecko) Chrome/91.0.4472.124 Safari/537.36'\n",
    "}\n",
    "\n",
    "# Read data from url and write to local file\n",
    "url_path = ('https://havewheelchairwilltravel.net/singapore-airlines-economy-class-review/')\n",
    "html_text = requests.get(url_path, headers=request_headers).text\n",
    "\n",
    "with open('my_html.html', 'w') as file:\n",
    "    file.write(html_text)\n",
    "    "
   ]
  },
  {
   "cell_type": "code",
   "execution_count": 4,
   "metadata": {},
   "outputs": [],
   "source": [
    "from langchain.document_loaders import BSHTMLLoader\n",
    "import os\n",
    "\n",
    "# Load data from html file\n",
    "loader = BSHTMLLoader('my_html.html')\n",
    "data = loader.load()"
   ]
  },
  {
   "cell_type": "code",
   "execution_count": 5,
   "metadata": {},
   "outputs": [
    {
     "data": {
      "text/plain": [
       "[Document(metadata={'source': 'my_html.html', 'title': 'Singapore Airlines economy class review - Have Wheelchair Will Travel'}, page_content=\"\\n\\n\\n\\n\\n\\nSingapore Airlines economy class review - Have Wheelchair Will Travel\\n\\n\\n\\n\\n\\n\\n\\n\\n\\n\\n\\n\\n\\n\\n\\n\\n\\n\\n\\n\\n\\n\\n\\n\\n\\n\\n\\n\\n\\n\\n\\n\\n\\n\\n\\n\\n\\n\\n\\n\\n\\n\\n\\n\\n\\n\\n\\n\\n\\n\\n\\n\\n\\n\\n\\n\\n\\n\\n\\n\\n\\n\\n\\n\\n\\n\\n\\n \\n\\n\\n\\n\\n\\n\\n\\n\\n\\n\\n\\n\\n\\n\\nSkip to content\\n\\nTravel Without Limits Winter/Autumn 2024 Issue OUT NOW! Subscribe Here →\\n \\n\\n\\n\\n\\n\\n \\n \\n\\n\\n \\nMenu \\n\\n\\n\\n\\nMenu \\nBlog\\nAbout us\\n\\nAbout this website\\nAbout the author\\nAbout our family\\nWheely Good Chats With Braeden\\n\\n\\nTips\\n\\nKnow Before You Go\\nAirlines\\nCar Hire\\nTravel Insurance\\nWheelchair tips\\nAdditional Info\\nRecreational activities\\nTravel, Shopping & Money Saving Tips\\n\\n\\nEquipment & Services\\nTravel\\n\\nAustralia\\nU.S.A\\nEurope\\n\\n\\nMedia\\nBook Julie\\nContact\\n \\n\\n\\n \\n\\n\\n\\n\\n\\nFebruary 8, 2023\\nSingapore Airlines economy class review\\n\\n\\n\\n\\n\\n\\n\\n\\n\\nI find it hard to believe that in all our years of travelling we’ve never flown with Singapore Airlines. Working in the travel industry, I always received amazing feedback about the airline, and they have steadily held their position as being well-respected in the industry. I always like to share our travel experiences, so I thought I’d do a review on Singapore Airlines economy class.\\nFind budget Singapore Airlines fares here.\\n\\nSingapore Airlines economy class review\\nWhen we were searching for flights for our trip to Europe, the decision over which airline to choose came down to the best price and the most efficient airline to get to our destination. We didn’t have much time In Europe, so we wanted to maximise our time on the ground and minimise the travel time. Singapore Airlines won out on price and in efficiency in getting us to our destination.\\nI think it’s always tough to go into any situation with high expectations. Even on our ride to the airport our driver was chatting to us about how amazing Singapore Airlines is and how she had never heard a bad word about them. It was therefore difficult not to expect excellence.\\n\\n\\n\\n\\n\\nSingapore Airlines economy class extra legroom seats\\nCheck-in was seamless, as was boarding and our flight was on time. We had booked extra legroom seats which cost around $150 extra per person per sector. So Sydney to Singapore cost $150 per person to have the extra legroom, Singapore to Paris, Rome to Singapore and so on. It was an expense on top of an already exorbitantly high airfare, and keep in mind, Singapore Airlines provided us with the best value for money with our airfares. Hubby thought we could do without it on the shorter flights but I was determined to arrive in Europe in the best shape possible and on our return we knew we would hit the ground running. So, we paid for the extra legroom and I think it was money well spent. It was great to be able to stretch out, we could get up and down as often as we liked, without squeezing past people, and there’s just something less claustrophobic about having space around you.\\nOur seats were in the exit row on most of our flights, which is not available to people travelling with a disability as you are supposed to be able to assist in an emergency if necessary. I’m not sure that everyone sitting in those sits would help, let alone could help, but perhaps that’s me being cynical.\\nOur extra legroom seats Singapore to Paris – non-exit seats\\nThere are however, some extra legroom seats that are not classified as exit row, so if you are booking with an airline, and can afford them, it might be worth checking out that option. Flying Singapore to Paris we had the extra legroom seats pictured above which are non-exit row seats and they offered a lovely amount of space to stretch out.\\n\\n\\n\\n\\n\\nOn the return to Australia, Hubby and Amelia booked the row behind the exit row which only offers one seat (next to the window) which has the extra legroom. You can see in the picture above and the one below what that seat is like.\\n\\nThis may be of assistance if you only have one family member that really needs the space. For example, if we were travelling with Braeden, we’d put him in that extra legroom seat by the window and the rest of us could manage having a seat in front of us. At least we’d know his restlessness would be less likely to bother people and he’d have more space to stretch out.\\nA380 aircraft have an accessible bathroom which is about double the size of a standard airline bathroom\\nBooking the extra legroom seats did mean we were located near the toilets. This wasn’t a problem for us and from my bird’s eye position, I can tell you that Singapore Airlines cabin crew are the most attentive I’ve seen in regards to hygiene. The toilets were cleaned so regularly and thoroughly it was seriously impressive. On the A380 flights there was a larger bathroom for use for people with a disability.\\n\\n\\n\\n\\nBook Singapore Airlines flights here.\\nSingapore Airlines economy class catering & entertainment\\nThe entertainment options were fine. It wasn’t a mind-blowing selection but it did keep us all sufficiently entertained. I found a much wider selection when I flew with Delta Airlines to the US last year. I did find myself getting back into Grey’s Anatomy after dropping it many moons ago. Wow, I’ve missed a lot.\\n\\nSingapore Airlines economy class food was good Sydney to Singapore and Singapore to Rome. \\nI wasn’t a fan of the options on my return flights. I found the meals on the way home were heavily salted and absolutely swimming in soy sauce. I like soy but in measured amounts. I also missed getting eggs for breakfast.\\n\\nAmelia was flying home a few weeks after us so I suggested she order vegetarian meals and she reported that they were good. In retrospect I’d order vegetarian meals in the future too if I was flying with Singapore Airlines.\\nOn our flights from Australia to Europe we received a lovely Connoisseur ice cream as a snack. I may have slept through any snacks on the return leg as I didn’t see any come around. I did notice other passengers asking for snacks overnight and they received a variety of salted snacks including Doritos and chips. I couldn’t see any snack bar on the plane for help-yourself-snacking.\\nAmenities kits are not provided but toothbrushes and toothpaste is available in the bathrooms.\\n\\n\\n\\n\\nMore pictures and reviews of Singapore airlines here.\\nDisability assistance\\xa0\\nBraeden wasn’t travelling with us this trip, but I watched as passengers who needed mobility assistance were helped. As usual, passengers with a disability were assisted to board the aircraft first, and were required to leave the aircraft last. If you are booking a trip with Singapore Airlines, or just considering them as an airline, you may like to start your research on their Disability Assistance page.\\n\\nIt was great to see Auslan on the inflight safety briefing video. After learning a lot about Auslan while Amelia was studying, I agreed with her that the person doing Auslan in the video should be wearing black, or there should be a dark background behind her to make it clearer.\\nWe found the flight attendants to be polite and accommodating. Singapore Airlines economy class was good. It didn’t live up to the high expectations I had and the food on my return journey was a let down but perhaps I’d heard too much hype. The extra legroom was well worth the money and I’d book those seats again if I was travelling on a long-haul flight.\\nMost importantly, all our fights arrived on time at our destinations, even when the flights were delayed leaving from certain cities they made up the time in the air. Hubby’s lost luggage could have been dealt with in a better manner and of course that caused a negative feeling at the end of his trip (you can catch up on the saga of the lost luggage here). Both Amelia and I had no problem with our luggage arriving.\\n\\n\\n\\n\\nI’m keen to hear if you’ve travelled Singapore Airlines how you found them. I’m especially keen to hear about the disability assistance services.\\nYou may also like to read\\nTips for making air travel more comfortable – wheelchair accessible tips\\nChangi Airport accessibility\\nMy travel packing essentials\\nReview of Delta Airlines Premium Select\\nAir New Zealand accessible travel review\\n\\xa0\\nFind more Singapore Airlines fares and options here.\\n\\xa0\\n\\n\\n\\n\\n \\n\\n\\n\\n\\n31 thoughts on “Singapore Airlines economy class review”\\n\\n\\n\\n\\n \\n\\nPeda Richey \\n\\n \\n\\t\\t\\t\\t\\t\\t\\t\\t\\t\\tFebruary 13, 2023 at 12:12 am\\t\\t\\t\\t\\t\\t\\t\\t\\t\\n \\n\\n\\n\\nHi There. I have traveled al around the world with Singapore airlines. And I would not travel with anybody else. I disagree with you with the food and entertainment. The food and entertainment is the best I have experienced. I staff on Singapore airlines are so polite and helpful. And I agree with you that the hygiene on Singapore airlines is the best I have seen. I will not travel oversees with anybody else. Summing up. Singapore airlines is fantastic.\\nReply \\n\\n\\n\\n\\n\\n \\n\\nJulie \\n\\n \\n\\t\\t\\t\\t\\t\\t\\t\\t\\t\\tFebruary 13, 2023 at 2:51 am\\t\\t\\t\\t\\t\\t\\t\\t\\t\\n \\n\\n\\n\\nHi Peda\\nI always welcome other people’s opinions and input because what one person doesn’t like another loves. I think Singapore Airlines is an excellent airline and obviously you are a loyal traveller using them to travel all around the world. Thanks so much for taking the time to share you thoughts. \\nJulie\\nReply \\n\\n\\n\\n\\n\\n \\n\\nAnonymous \\n\\n \\n\\t\\t\\t\\t\\t\\t\\t\\t\\t\\tMarch 16, 2023 at 9:38 am\\t\\t\\t\\t\\t\\t\\t\\t\\t\\n \\n\\n\\n\\nJust back from Asia . My outgoing connecting flight with Singapore airline was delayed by more than 4 hours. Flight out the food was good.  First part of connecting flight back to UK was with Scoot airline like flying with Ryan Air. Flight back to the UK on Singapore airline the food not good. As it was a night time flight only really saw the flight attendants in first 1-2 hours and last 1-2 hours of 13 hour flight .Needed  more drink and snacks. Landing in the UK excellent.\\nReply \\n\\n\\n\\n\\n\\n\\n\\n \\n\\nRichard Baxter \\n\\n \\n\\t\\t\\t\\t\\t\\t\\t\\t\\t\\tFebruary 13, 2023 at 12:21 pm\\t\\t\\t\\t\\t\\t\\t\\t\\t\\n \\n\\n\\n\\nHi I first travelled with Singapore way back in 1982. And again in 88.  That year also travelled with Cathay who were not as good as Singapore, who by then I thought were fantastic.\\nI have only recently started totravel again with Thai who in 2018 were excellent, even travelled with Bangkok Airlines who on a short flight were also great, even providing a meal for a 90 minute flight.\\nI think some Asian airlines have learnt lessons from Singapore Airlines.\\nReply \\n\\n\\n\\n\\n\\n \\n\\nJulie \\n\\n \\n\\t\\t\\t\\t\\t\\t\\t\\t\\t\\tFebruary 14, 2023 at 2:08 am\\t\\t\\t\\t\\t\\t\\t\\t\\t\\n \\n\\n\\n\\nThanks Richard.\\nIt’s great to hear of your experiences with the various airlines. I think many of the airlines you mention have stellar reputations. \\nJulie\\nReply \\n\\n\\n\\n\\n\\n \\n\\nLinda \\n\\n \\n\\t\\t\\t\\t\\t\\t\\t\\t\\t\\tFebruary 15, 2023 at 12:33 am\\t\\t\\t\\t\\t\\t\\t\\t\\t\\n \\n\\n\\n\\nDear Julie\\nI find it difficult ot believe that all the feedback is positive. Are you getting kickbacks from Singapore? is this a PR exercise by Singpore.\\nMy experience with Singapore was a bad one; and it was compounded byt he fact Singapore was NOT interested in my feedback.\\nI feel like this page is a bit of a gratuitous page promoting Singapore.\\nI wish your family the best and am glad you were served well , but your page does not reflect a balanced view of travel experiences.\\nLinda\\nReply \\n\\n\\n\\n\\n\\n \\n\\nJulie \\n\\n \\n\\t\\t\\t\\t\\t\\t\\t\\t\\t\\tFebruary 15, 2023 at 4:10 am\\t\\t\\t\\t\\t\\t\\t\\t\\t\\n \\n\\n\\n\\nHi Linda, \\nWe paid for our airfares ourselves and are in no way paid by Singapore Airlines to promote the airline. In fact in the review I comment that the food on our return was not to my liking and the entertainment was good but I’ve had better on another airline. \\nThe only experience I can write about is my own. The review is a reflection of our experience so I’m sorry if you read that as being unbalanced. I publish every comment received whether they agree or disagree with my review in a hope that our readers do get a balanced opinion, and that now includes yours. \\nJulie\\nReply \\n\\n\\n\\n\\n\\n \\n\\nKenneth Waldron \\n\\n \\n\\t\\t\\t\\t\\t\\t\\t\\t\\t\\tMarch 17, 2023 at 8:01 pm\\t\\t\\t\\t\\t\\t\\t\\t\\t\\n \\n\\n\\n\\nI booked and had similar same seats on the30 ex Adelaide. Leg room was a benefit but that was the only plus. These seats did not have a window, baggage was allowed to be left on the floor next to these seats, the person with extra leg room in the seat behind used the space to move to and from the toilets. There was also often a queue waiting for the toilet standing right in front of the seats. This was very annoying on the evening flight. Whilst the crew and everything else was good I will never pay extra again for these seats on the 350 aircraft which is all Singapore Airlines fly ex Adelaide.\\n\\n\\n\\n\\n\\n\\n\\n\\n\\n\\n\\n\\n \\n\\nSarjit singh \\n\\n \\n\\t\\t\\t\\t\\t\\t\\t\\t\\t\\tAugust 24, 2023 at 7:15 pm\\t\\t\\t\\t\\t\\t\\t\\t\\t\\n \\n\\n\\n\\nHi i like to complement sq flight 923 from surabaya  ,juanda Airport to Singapore. In particular fss Mutiara,and rest of cabin crew.Mutiara  always smile and friendly.keep up the excellent work.Thank you.\\nReply \\n\\n\\n\\n\\n\\n\\n\\n \\n\\nA \\n\\n \\n\\t\\t\\t\\t\\t\\t\\t\\t\\t\\tFebruary 13, 2023 at 3:36 pm\\t\\t\\t\\t\\t\\t\\t\\t\\t\\n \\n\\n\\n\\nBeing an Aussie, I’ve always flown Qantas but have become increasingly dissatisfied with the experience. In 2018, I flew Singapore Airlines to Copenhagen and it was by far the best experience I have had on long haul flight. Flew both ways on a Boeing 777, but despite being a smaller plane than the A380 or 747, the legroom was amazing. I flew economy and did not pay for extra leg room – glad I didn’t. It would have been wasted of money. The food was excellent and the cabin crew were exceptional. SA will always be my first choice of airline.\\nReply \\n\\n\\n\\n\\n\\n \\n\\nJulie \\n\\n \\n\\t\\t\\t\\t\\t\\t\\t\\t\\t\\tFebruary 14, 2023 at 2:07 am\\t\\t\\t\\t\\t\\t\\t\\t\\t\\n \\n\\n\\n\\nThat’s great to hear. I found the extra legroom well worth the money but it’s so good to hear that economy class room was enough for you. \\nThanks for sharing. \\nJulie\\nReply \\n\\n\\n\\n\\n\\n\\n\\n \\n\\nGurdev Singh \\n\\n \\n\\t\\t\\t\\t\\t\\t\\t\\t\\t\\tFebruary 13, 2023 at 6:49 pm\\t\\t\\t\\t\\t\\t\\t\\t\\t\\n \\n\\n\\n\\nI have travel singapore airline from london to singapore  and return to london with singapore  it was clean the toilet were  clean and in between meals the crew laid  snacks   at the rear off the Air there werea good choice\\nReply \\n\\n\\n\\n\\n\\n \\n\\nJulie \\n\\n \\n\\t\\t\\t\\t\\t\\t\\t\\t\\t\\tFebruary 14, 2023 at 2:07 am\\t\\t\\t\\t\\t\\t\\t\\t\\t\\n \\n\\n\\n\\nFantastic to hear!\\nThanks for sharing.\\nReply \\n\\n\\n\\n\\n\\n\\n\\n \\n\\nLinda \\n\\n \\n\\t\\t\\t\\t\\t\\t\\t\\t\\t\\tFebruary 13, 2023 at 7:56 pm\\t\\t\\t\\t\\t\\t\\t\\t\\t\\n \\n\\n\\n\\nBack in 2021 I travelled with Singapore Airlines in Business class to Europe. I saved my money to splurge for the first time in my life on a business seat. It was rubbish!!! The in flight service was terrible. As a vegan, the crew had no idea what foods I was able to eat. The vegan menu provided me so few calories that I had Á hyperglycaemic episode from Singapore to Frankfurt and had to drink about a litre of Pepsi to stay alive!!! No paper menu; no snacks offered except tiny packs of salted nuts, no one to help explain the complicated tech system on how to scan your phone to find out info; no one assisted with reclining seats because unlike other airlines nothing about the seating is straightforward. Tried to complain to the airline but it was impossible even with Kris flyer status.\\nI would not recommend this airline for food, inflight service, or value for money to any future traveller.\\nReply \\n\\n\\n\\n\\n\\n \\n\\nJulie \\n\\n \\n\\t\\t\\t\\t\\t\\t\\t\\t\\t\\tFebruary 14, 2023 at 2:10 am\\t\\t\\t\\t\\t\\t\\t\\t\\t\\n \\n\\n\\n\\nHi Linda\\nI can’t imagine how disappointed you must have been to save your money to splurge on business class only to have a poor experience. I do think with every airline the experience people have can be so different to another. I am so sorry to hear of yours as it also sounds extremely scary given your low sugar. \\nI hope it hasn’t put you off travel in general. \\nTake care and thanks for contributing. \\nJulie\\nReply \\n\\n\\n\\n\\n\\n\\n\\n \\n\\nLinda \\n\\n \\n\\t\\t\\t\\t\\t\\t\\t\\t\\t\\tFebruary 13, 2023 at 8:00 pm\\t\\t\\t\\t\\t\\t\\t\\t\\t\\n \\n\\n\\n\\nSorry , my travel was in May 2022 and Nov 2022, not 2021.\\nAnd I had low blood sugar- a hypo, not hyper.\\nI still shake my head at that awful experience of business class in Singapore Air. Never again!\\nReply \\n\\n\\n\\n\\n\\n \\n\\nDebbie B \\n\\n \\n\\t\\t\\t\\t\\t\\t\\t\\t\\t\\tFebruary 15, 2023 at 9:44 am\\t\\t\\t\\t\\t\\t\\t\\t\\t\\n \\n\\n\\n\\nI travelled to Denmark last yr with Singapore Airlines and could not fault them…\\nThere was a child on board that had bipolar, and the staff were brilliant with the family and entertaining the young lad…\\nI would travel around with Singapore Airlines anytime….\\nReply \\n\\n\\n\\n\\n\\n \\n\\nJulie \\n\\n \\n\\t\\t\\t\\t\\t\\t\\t\\t\\t\\tFebruary 15, 2023 at 9:50 am\\t\\t\\t\\t\\t\\t\\t\\t\\t\\n \\n\\n\\n\\nHi Debbie,\\nThat’s wonderful to hear. Thanks so much for sharing.\\nJulie\\nReply \\n\\n\\n\\n\\n\\n\\n\\n \\n\\nsandy thring \\n\\n \\n\\t\\t\\t\\t\\t\\t\\t\\t\\t\\tFebruary 15, 2023 at 8:22 pm\\t\\t\\t\\t\\t\\t\\t\\t\\t\\n \\n\\n\\n\\nI travelled Singapore Airlines Business Class in Dec 2022 from Cape Town to Melbourne.  Returning to CT in 2 weeks.  Bus Class was disappointing, the food was awful and in fact I was ill on arrival from what I suspect was the food.  I hope my return travel experience will be much better.  For me, you cannot beat Emirates.  I wish I had flown with them.\\nReply \\n\\n\\n\\n\\n\\n \\n\\nJulie \\n\\n \\n\\t\\t\\t\\t\\t\\t\\t\\t\\t\\tFebruary 16, 2023 at 1:55 am\\t\\t\\t\\t\\t\\t\\t\\t\\t\\n \\n\\n\\n\\nHi Sandy,\\nI’m so sorry to hear you were sick on your arrival. I hope you’ve enjoyed your time in Cape Town and the return trip is a better experience for you. \\nJulie\\nReply \\n\\n\\n\\n\\n\\n\\n\\n \\n\\nLeonie Van den Boom \\n\\n \\n\\t\\t\\t\\t\\t\\t\\t\\t\\t\\tFebruary 16, 2023 at 12:55 am\\t\\t\\t\\t\\t\\t\\t\\t\\t\\n \\n\\n\\n\\nHave just booked ticket to Amsterdam. Can’t believe I have to pay extra to select a standard seat. Disappointed at the add on cosi\\nReply \\n\\n\\n\\n\\n\\n \\n\\nJulie \\n\\n \\n\\t\\t\\t\\t\\t\\t\\t\\t\\t\\tFebruary 16, 2023 at 1:53 am\\t\\t\\t\\t\\t\\t\\t\\t\\t\\n \\n\\n\\n\\nHi Leonie,\\nI thought the added cost associated with booking a seat was limited to the extra legroom seats. \\nSorry to hear that. \\nJulie\\nReply \\n\\n\\n\\n\\n\\n\\n\\n \\n\\nJoe Humphries \\n\\n \\n\\t\\t\\t\\t\\t\\t\\t\\t\\t\\tFebruary 16, 2023 at 1:28 am\\t\\t\\t\\t\\t\\t\\t\\t\\t\\n \\n\\n\\n\\nWe’ve flown business class twice Brisbane to Heathrow with Singapore, and are flying again in September. It experience with them is highly satisfactory and we rate it higher than Emirates, Etihad, Cathay, Royal Brunei and KLM, all of whom we’ve flown the same route, in economy, premium economy and business at various times. We now choose Singapore if the price is right and luckily it has been on our previous flights and it forthcoming flight.\\nReply \\n\\n\\n\\n\\n\\n \\n\\nJulie \\n\\n \\n\\t\\t\\t\\t\\t\\t\\t\\t\\t\\tFebruary 16, 2023 at 1:52 am\\t\\t\\t\\t\\t\\t\\t\\t\\t\\n \\n\\n\\n\\nHi Joe,\\nIt’s so good that you’ve found the service and price has been right for you to keep flying with Singapore Airlines. \\nHappy and safe travels when you next fly. \\nJulie\\nReply \\n\\n\\n\\n\\n\\n \\n\\nLynn Jack \\n\\n \\n\\t\\t\\t\\t\\t\\t\\t\\t\\t\\tFebruary 16, 2023 at 10:13 am\\t\\t\\t\\t\\t\\t\\t\\t\\t\\n \\n\\n\\n\\nAfter a couple of rough flights to London on Royal Brunei I dug a bit deeper and went with SIA. Can’t fault the staff and totally agree about the cleanliness of the plane. I was asked if I would like an upgrade to the aisle seat in the exit row so that another passenger could sit with her husband. Due to the configuration of the aisles I found that EVERY person who passed my seat, bumped my screen, feet or head. Advise to avoid that seat. Had the same experience with the food but had better seats on return by changing to a near empty row a few times after check-in.\\nReply \\n\\n\\n\\n\\n\\n \\n\\nJulie \\n\\n \\n\\t\\t\\t\\t\\t\\t\\t\\t\\t\\tFebruary 16, 2023 at 8:20 pm\\t\\t\\t\\t\\t\\t\\t\\t\\t\\n \\n\\n\\n\\nHi Lynn,\\nIsn’t it a dream when you get a near empty room that gives you room to spread out a little bit. \\nIt’s always annoying when people knock you as they go past, especially wen you’re trying to sleep. \\nThanks for sharing. \\nJulie\\nReply \\n\\n\\n\\n\\n\\n\\n\\n\\n\\n \\n\\nSans kay \\n\\n \\n\\t\\t\\t\\t\\t\\t\\t\\t\\t\\tFebruary 17, 2023 at 5:54 am\\t\\t\\t\\t\\t\\t\\t\\t\\t\\n \\n\\n\\n\\nI am a wheelchair traveller. I find them the  best to travel with. The staff are friendly.\\nI take vegetarian option. Somehow, it is not the best when you get the same food on all legs, to and fro, but taste wise, I cannot complain. On the whole even though for my big size I find the tray space is narrow, I find flying with them quite pleasurable. I have only travelled Singapore Thail and Malay Southern China I can’t compare with any other airplanes, but I find Thai and Singapore the best. Thank you ❤️.. I am travelling in coming May too. This time we booked through Web because it was cheaperthan close to 3000 I have been paying since after covid, but I couldn’t find an optionn to book a wheelchair.  Hope the staff will help me to get one at the counter. Luckily my family is travelling with me this time and hope they can help me a little bit in odd situation. Have a wonderful day.\\nReply \\n\\n\\n\\n\\n\\n \\n\\nJulie \\n\\n \\n\\t\\t\\t\\t\\t\\t\\t\\t\\t\\tFebruary 17, 2023 at 6:01 am\\t\\t\\t\\t\\t\\t\\t\\t\\t\\n \\n\\n\\n\\nHi\\nThanks for the feedback. It’s always good to hear about other people’s experiences.\\nI recommend calling the airline’s special handling department or linking through from their accessibility information and organising to book the wheelchair. It’s always much easier to have everything organised ahead of time rather than hoping it works out on the spot. \\nKind regards\\nJulie\\nReply \\n\\n\\n\\n\\n\\n\\n\\n \\n\\nChelsea \\n\\n \\n\\t\\t\\t\\t\\t\\t\\t\\t\\t\\tMarch 23, 2023 at 11:07 am\\t\\t\\t\\t\\t\\t\\t\\t\\t\\n \\n\\n\\n\\nWondering if the two seats next to the single in the second row with the extra leg space had the ability for the arm rest to be raised?\\nTraveling with a toddler and we have booked the full second row with the one seat extra leg room, yet I now worry that it will be uncomfortable for my toddler if he cant access lifting the arm rest to be next to me! If you could give some insight I’d be so appreciative!\\nThanks\\nReply \\n\\n\\n\\n\\n\\n \\n\\nJulie \\n\\n \\n\\t\\t\\t\\t\\t\\t\\t\\t\\t\\tMarch 23, 2023 at 9:30 pm\\t\\t\\t\\t\\t\\t\\t\\t\\t\\n \\n\\n\\n\\nHi Chelsea,\\nI just asked my husband as he sat in the row you have booked. He sat in the single extra legroom seat and said he had a fixed arm rest as he had his entertainment monitor swing up from the fixed arm. He said the two people beside him had their monitors in the seat back so he’s fairly sure that their arm rest would have been able to be raised. We all travelled home from Europe at different times so we didn’t sit together to know definitely but from what he describes I think you’ll have one arm rest between you and your toddler you’ll be able to raise.\\nYou could call the airline but I imagine it would be a long time on hold. \\nBest of luck\\nJulie\\nReply \\n\\n\\n\\n\\n\\n\\n\\n \\n\\nChelsea \\n\\n \\n\\t\\t\\t\\t\\t\\t\\t\\t\\t\\tMarch 23, 2023 at 11:19 pm\\t\\t\\t\\t\\t\\t\\t\\t\\t\\n \\n\\n\\n\\nThank you so much for that Julie! I really valued this post, it was very informative ☺️\\nReply \\n\\n\\n\\n\\nLeave a Comment Cancel replyCommentName\\nEmail\\nWebsite\\n Save my name, email, and website in this browser for the next time I comment.\\n Notify me of follow-up comments by email. Notify me of new posts by email. \\n\\nΔ \\nThis site uses Akismet to reduce spam. Learn how your comment data is processed.\\n\\n\\n\\n\\n\\n\\n\\n\\xa0\\n\\nSearch\\n\\n\\nConnect with us\\nFacebook\\nInstagram\\n\\nHave email will subscribe\\nDon't miss out on the latest news and recommendations from Have Wheelchair Will Travel!\\n\\n\\n\\n\\n\\n\\n\\t\\t\\t\\t\\t\\t\\t\\tType your email…\\t\\t\\t\\t\\t\\t\\t\\n \\n\\n\\n\\n\\n\\n\\n\\n\\n \\n\\t\\t\\t\\t\\t\\t\\t\\tSubscribe\\t\\t\\t\\t\\t\\t\\t\\n\\n\\n\\n\\n\\n\\n\\n\\n\\n\\n\\n\\n\\n\\n\\n\\n\\n\\xa0\\n\\n\\n \\n\\xa0\\nLatest adventures\\n\\nAccessibility News Round-Up: July 2024\\nReef View Hotel review – Hamilton Island\\nDisney Wonder Christmas themed cruises\\nTarget wheelchair backpack review\\nCreating Braeden’s ultimate list\\n \\n\\n\\n\\n\\n\\n\\n\\n\\n\\nSearchGo\\n\\n\\nUse\\nThis website is subject to Copyright and pictures and information may not be copied for any commercial purpose without the prior written consent of the writer.\\nDisclaimer\\nThe opinions and experiences outlined on this website are personal to the writer and the writer accepts no responsibility if circumstances change or if others do not encounter the same facilities or features as described for various locations.\\n\\n\\nGet the newsletter\\nDon't miss out on the latest news and recommendations fromHave Wheelchair Will Travel\\n\\n\\n\\n\\n\\n\\n\\n\\n\\n\\n\\n\\n\\n\\n\\n\\n\\n\\n\\n\\n\\nSubscribe\\n  Loading... \\n\\n\\n\\n\\n\\nSubscribe\\n  Loading... \\n\\n\\n\\n\\n\\n\\nThank you!\\nYou have successfully joined our subscriber list.\\n\\n\\n\\n\\n\\n\\n\\n\\nFind us on socials\\n\\n\\n\\n\\n\\n\\n\\n\\n\\n\\n© 2024 Have Wheelchair Will Travel\\n\\n\\n\\nDisclosure Policy\\nContact Us\\n\\n\\n\\n\\n\\n\\n\\n\\n\\n\\n\\n\\n CloseBlog\\nAbout us\\n\\nAbout this website\\nAbout the author\\nAbout our family\\nWheely Good Chats With Braeden\\n\\n\\nTips\\n\\nKnow Before You Go\\nAirlines\\nCar Hire\\nTravel Insurance\\nWheelchair tips\\nAdditional Info\\nRecreational activities\\nTravel, Shopping & Money Saving Tips\\n\\n\\nEquipment & Services\\nTravel\\n\\nAustralia\\nU.S.A\\nEurope\\n\\n\\nMedia\\nBook Julie\\nContact\\n \\n\\n \\n\\n\\n\\n\\n\\n\\n\\n\\n\\n\\n\\n\\n\\n\\n\\n\\n\\n\\n\\n\\n\\n\\n\\n\\n\\n\\n\\n\\n\\n\\n\\n\\n \\n\\n\\n\\nSearch for:\\n\\n\\n\\n\\n\\n\\n\\n\\n\\n\\n\\n\\n\\n\\n\\n\\n\\n\\n\\n\\n\\n\\n\\n\\n\\n\\n\\n\\n\\n\\n\\n\")]"
      ]
     },
     "execution_count": 5,
     "metadata": {},
     "output_type": "execute_result"
    }
   ],
   "source": [
    "data"
   ]
  },
  {
   "cell_type": "code",
   "execution_count": 6,
   "metadata": {},
   "outputs": [],
   "source": [
    "\"\"\"Create splitter\"\"\"\n",
    "from langchain.text_splitter import RecursiveCharacterTextSplitter\n",
    "\n",
    "text_splitter = RecursiveCharacterTextSplitter(\n",
    "    chunk_size = 300,\n",
    "    chunk_overlap  = 10,\n",
    "    length_function = len,\n",
    "    is_separator_regex = True,\n",
    "    separators=[\"\\n+\", \"\\t+\", \"\\n\\n\", \"\\n\", \" \", ],\n",
    "    keep_separator=False\n",
    ")\n",
    "\n",
    "# Split into documents\n",
    "split_docs = text_splitter.split_documents(data)"
   ]
  },
  {
   "cell_type": "code",
   "execution_count": 7,
   "metadata": {},
   "outputs": [
    {
     "data": {
      "text/plain": [
       "[Document(metadata={'source': 'my_html.html', 'title': 'Singapore Airlines economy class review - Have Wheelchair Will Travel'}, page_content='Singapore Airlines economy class review - Have Wheelchair Will Travel\\n+ \\n+Skip to content\\n+Travel Without Limits Winter/Autumn 2024 Issue OUT NOW! Subscribe Here →\\n+ \\n+ \\n+ \\n+ \\n+Menu \\n+Menu \\n+Blog\\n+About us\\n+About this website\\n+About the author\\n+About our family\\n+Wheely Good Chats With Braeden\\n+Tips'),\n",
       " Document(metadata={'source': 'my_html.html', 'title': 'Singapore Airlines economy class review - Have Wheelchair Will Travel'}, page_content='Tips\\n+Know Before You Go\\n+Airlines\\n+Car Hire\\n+Travel Insurance\\n+Wheelchair tips\\n+Additional Info\\n+Recreational activities\\n+Travel, Shopping & Money Saving Tips\\n+Equipment & Services\\n+Travel\\n+Australia\\n+U.S.A\\n+Europe\\n+Media\\n+Book Julie\\n+Contact\\n+ \\n+ \\n+February 8, 2023'),\n",
       " Document(metadata={'source': 'my_html.html', 'title': 'Singapore Airlines economy class review - Have Wheelchair Will Travel'}, page_content='Singapore Airlines economy class review'),\n",
       " Document(metadata={'source': 'my_html.html', 'title': 'Singapore Airlines economy class review - Have Wheelchair Will Travel'}, page_content='I find it hard to believe that in all our years of travelling we’ve never flown with Singapore Airlines. Working in the travel industry, I always received amazing feedback about the airline, and they have steadily held their position as being well-respected in the industry. I always like to share'),\n",
       " Document(metadata={'source': 'my_html.html', 'title': 'Singapore Airlines economy class review - Have Wheelchair Will Travel'}, page_content='to share our travel experiences, so I thought I’d do a review on Singapore Airlines economy class.'),\n",
       " Document(metadata={'source': 'my_html.html', 'title': 'Singapore Airlines economy class review - Have Wheelchair Will Travel'}, page_content='Find budget Singapore Airlines fares here.\\n+Singapore Airlines economy class review'),\n",
       " Document(metadata={'source': 'my_html.html', 'title': 'Singapore Airlines economy class review - Have Wheelchair Will Travel'}, page_content='When we were searching for flights for our trip to Europe, the decision over which airline to choose came down to the best price and the most efficient airline to get to our destination. We didn’t have much time In Europe, so we wanted to maximise our time on the ground and minimise the travel time.'),\n",
       " Document(metadata={'source': 'my_html.html', 'title': 'Singapore Airlines economy class review - Have Wheelchair Will Travel'}, page_content='time. Singapore Airlines won out on price and in efficiency in getting us to our destination.'),\n",
       " Document(metadata={'source': 'my_html.html', 'title': 'Singapore Airlines economy class review - Have Wheelchair Will Travel'}, page_content='I think it’s always tough to go into any situation with high expectations. Even on our ride to the airport our driver was chatting to us about how amazing Singapore Airlines is and how she had never heard a bad word about them. It was therefore difficult not to expect excellence.'),\n",
       " Document(metadata={'source': 'my_html.html', 'title': 'Singapore Airlines economy class review - Have Wheelchair Will Travel'}, page_content='Singapore Airlines economy class extra legroom seats')]"
      ]
     },
     "execution_count": 7,
     "metadata": {},
     "output_type": "execute_result"
    }
   ],
   "source": [
    "\"\"\"Preview first 10 documents\"\"\"\n",
    "split_docs[:10]"
   ]
  },
  {
   "cell_type": "code",
   "execution_count": 8,
   "metadata": {},
   "outputs": [
    {
     "name": "stderr",
     "output_type": "stream",
     "text": [
      "/opt/homebrew/lib/python3.11/site-packages/tqdm/auto.py:21: TqdmWarning: IProgress not found. Please update jupyter and ipywidgets. See https://ipywidgets.readthedocs.io/en/stable/user_install.html\n",
      "  from .autonotebook import tqdm as notebook_tqdm\n"
     ]
    }
   ],
   "source": [
    "\"\"\"LLM utilities\"\"\"\n",
    "from langchain_huggingface import HuggingFaceEndpoint\n",
    "from langchain_google_genai import ChatGoogleGenerativeAI, GoogleGenerativeAI\n",
    "from langchain_openai import OpenAI, ChatOpenAI\n",
    "from langchain_chroma import Chroma\n",
    "\n"
   ]
  },
  {
   "cell_type": "code",
   "execution_count": 9,
   "metadata": {},
   "outputs": [
    {
     "name": "stderr",
     "output_type": "stream",
     "text": [
      "/opt/homebrew/lib/python3.11/site-packages/langchain_core/_api/deprecation.py:139: LangChainDeprecationWarning: The class `HuggingFaceEmbeddings` was deprecated in LangChain 0.2.2 and will be removed in 0.3.0. An updated version of the class exists in the langchain-huggingface package and should be used instead. To use it run `pip install -U langchain-huggingface` and import as `from langchain_huggingface import HuggingFaceEmbeddings`.\n",
      "  warn_deprecated(\n",
      "/opt/homebrew/lib/python3.11/site-packages/huggingface_hub/file_download.py:1132: FutureWarning: `resume_download` is deprecated and will be removed in version 1.0.0. Downloads always resume when possible. If you want to force a new download, use `force_download=True`.\n",
      "  warnings.warn(\n"
     ]
    },
    {
     "data": {
      "text/plain": [
       "'\\nos.environ[\"OPENAI_API_KEY\"] = \"<your key>\"\\n\\nfrom langchain_openai import OpenAIEmbeddings\\n\\nembeddings = OpenAIEmbeddings(\\n    model=\"text-embedding-3-large\",\\n    # With the `text-embedding-3` class\\n    # of models, you can specify the size\\n    # of the embeddings you want returned.\\n    # dimensions=1024\\n)\\n'"
      ]
     },
     "execution_count": 9,
     "metadata": {},
     "output_type": "execute_result"
    }
   ],
   "source": [
    "\"\"\"Embeddings\"\"\"\n",
    "from langchain_community.embeddings.huggingface import HuggingFaceEmbeddings\n",
    "\n",
    "# Load embeddings model (sentence-transformer from huggingface)\n",
    "embeddings_model_name=\"all-MiniLM-L6-v2\"\n",
    "embedding_function = HuggingFaceEmbeddings(model_name=embeddings_model_name)\n",
    "\n",
    "\"\"\"to use OpenAI Embeddings (taken from langchain docs):\"\"\"\n",
    "'''\n",
    "os.environ[\"OPENAI_API_KEY\"] = \"<your key>\"\n",
    "\n",
    "from langchain_openai import OpenAIEmbeddings\n",
    "\n",
    "embeddings = OpenAIEmbeddings(\n",
    "    model=\"text-embedding-3-large\",\n",
    "    # With the `text-embedding-3` class\n",
    "    # of models, you can specify the size\n",
    "    # of the embeddings you want returned.\n",
    "    # dimensions=1024\n",
    ")\n",
    "'''\n"
   ]
  },
  {
   "cell_type": "code",
   "execution_count": 10,
   "metadata": {},
   "outputs": [
    {
     "name": "stdout",
     "output_type": "stream",
     "text": [
      "\n",
      "Distance 1 -> 2: 0.57\n",
      "Distance 1 -> 3: 0.49\n",
      "Distance 2 -> 3: 0.15\n",
      "\n"
     ]
    }
   ],
   "source": [
    "\n",
    "# Demonstrate embeddings and similarity\n",
    "\n",
    "text1 = 'The legroom on the flight was terrible.'\n",
    "text2 = 'The food was terrible'\n",
    "text3 = 'The space for legs was reasonable but there is room for improvement.'\n",
    "\n",
    "emb1 = embedding_function.embed_query(text1)\n",
    "emb2 = embedding_function.embed_query(text2)\n",
    "emb3 = embedding_function.embed_query(text3)\n",
    "\n",
    "print('''\n",
    "Distance 1 -> 2: %.2f\n",
    "Distance 1 -> 3: %.2f\n",
    "Distance 2 -> 3: %.2f\n",
    "''' % (np.dot(emb1, emb2), np.dot(emb1, emb3), np.dot(emb2, emb3)))"
   ]
  },
  {
   "cell_type": "code",
   "execution_count": 12,
   "metadata": {},
   "outputs": [
    {
     "name": "stdout",
     "output_type": "stream",
     "text": [
      "using existing vector db\n"
     ]
    }
   ],
   "source": [
    "\"\"\"Create vector db (delete existing directory)\"\"\"\n",
    "from pathlib import Path\n",
    "\n",
    "vecstore_dir = f\"{os.getcwd()}/chroma_vecstores_singairlines\"\n",
    "\n",
    "# If existing vectorstore, use it (to update it delete all the contents of the directory and run this cell)\n",
    "if Path(f'{vecstore_dir}/chroma.sqlite3').exists():\n",
    "    print(\"using existing vector db\")\n",
    "    vec_db = Chroma(persist_directory=vecstore_dir, embedding_function=embedding_function)\n",
    "else:\n",
    "    print(\"no vector db found; creating new vector db\")\n",
    "    vec_db = Chroma.from_documents(persist_directory=vecstore_dir, embedding=embedding_function, documents=split_docs)"
   ]
  },
  {
   "cell_type": "code",
   "execution_count": 13,
   "metadata": {},
   "outputs": [
    {
     "data": {
      "text/plain": [
       "[Document(metadata={'source': 'my_html.html', 'title': 'Singapore Airlines economy class review - Have Wheelchair Will Travel'}, page_content='Just back from Asia . My outgoing connecting flight with Singapore airline was delayed by more than 4 hours. Flight out the food was good. First part of connecting flight back to UK was with Scoot airline like flying with Ryan Air. Flight back to the UK on Singapore airline the food not good. As it'),\n",
       " Document(metadata={'source': 'my_html.html', 'title': 'Singapore Airlines economy class review - Have Wheelchair Will Travel'}, page_content='Reply \\n+ \\n+Julie \\n+ \\n+\\t\\t\\t\\t\\t\\t\\t\\t\\t\\tFebruary 16, 2023 at 1:52 am\\t\\t\\t\\t\\t\\t\\t\\t\\t\\n+ \\n+Hi Joe,\\n+It’s so good that you’ve found the service and price has been right for you to keep flying with Singapore Airlines. \\n+Happy and safe travels when you next fly. \\n+Julie\\n+Reply \\n+ \\n+Lynn Jack \\n+')]"
      ]
     },
     "execution_count": 13,
     "metadata": {},
     "output_type": "execute_result"
    }
   ],
   "source": [
    "\"\"\"Example similarity search of the database with a query, retrieving the top k=2 results\"\"\"\n",
    "vec_db.similarity_search(query=\"What are customer's sentiemts on wait times?\", k=2)"
   ]
  },
  {
   "cell_type": "code",
   "execution_count": 25,
   "metadata": {},
   "outputs": [],
   "source": [
    "\"\"\"set up llm\"\"\"\n",
    "HUGFACE_TOKEN = \"<your huggingface key>\"\n",
    "GOOGLE_TOKEN = \"<your google key>\"\n",
    "OPENAI_TOKEN = \"<your key>\"\n",
    "\n",
    "# Some default LLM options; you can set up your own langchain LLM\n",
    "default_llm_dict = {\n",
    "    'mistral_7b':{\n",
    "            'repo_id':\"mistralai/Mistral-7B-Instruct-v0.2\",\n",
    "            'max_new_tokens':400,\n",
    "            'min_new_tokens':2,\n",
    "            'temperature':0.001,\n",
    "            'huggingfacehub_api_token':HUGFACE_TOKEN,\n",
    "            'seed':1\n",
    "        },\n",
    "        'gemini-pro':{\n",
    "            \"model\":\"gemini-pro\",\n",
    "            \"google_api_key\":GOOGLE_TOKEN,\n",
    "            \"temperature\":0,\n",
    "            'seed':1\n",
    "        }\n",
    "}"
   ]
  },
  {
   "cell_type": "code",
   "execution_count": 26,
   "metadata": {},
   "outputs": [
    {
     "name": "stderr",
     "output_type": "stream",
     "text": [
      "WARNING! min_new_tokens is not default parameter.\n",
      "                    min_new_tokens was transferred to model_kwargs.\n",
      "                    Please make sure that min_new_tokens is what you intended.\n"
     ]
    },
    {
     "name": "stdout",
     "output_type": "stream",
     "text": [
      "The token has not been saved to the git credentials helper. Pass `add_to_git_credential=True` in this function directly or `--add-to-git-credential` if using via `huggingface-cli` if you want to set the git credential as well.\n",
      "Token is valid (permission: read).\n",
      "Your token has been saved to /Users/ishanshastri/.cache/huggingface/token\n",
      "Login successful\n"
     ]
    }
   ],
   "source": [
    "\"\"\"Query construction\"\"\"\n",
    "from langchain.chains.query_constructor.base import AttributeInfo\n",
    "from langchain.chains import RetrievalQAWithSourcesChain, RetrievalQA\n",
    "\n",
    "llm = HuggingFaceEndpoint(**default_llm_dict['mistral_7b']) # Choosing mistral for demo\n",
    "# llm = OpenAI(**llm_dict['openai']) \n",
    "# llm = GoogleGenerativeAI(**llm_dict['gemini-pro'])\n",
    "\n",
    "qa_chain = RetrievalQAWithSourcesChain.from_chain_type(\n",
    "    llm,\n",
    "    retriever=vec_db.as_retriever(search_kwargs={\"k\": 3})\n",
    ")"
   ]
  },
  {
   "cell_type": "code",
   "execution_count": 27,
   "metadata": {},
   "outputs": [
    {
     "data": {
      "text/plain": [
       "{'question': 'Are the customers satisfied with the in-flight service?',\n",
       " 'answer': ' Yes, based on the testimonies of the customers, they were satisfied with the in-flight service of Singapore Airlines.\\n',\n",
       " 'sources': 'my\\\\_html.html'}"
      ]
     },
     "execution_count": 27,
     "metadata": {},
     "output_type": "execute_result"
    }
   ],
   "source": [
    "\"\"\"Sample invokation with simple QA chain\"\"\"\n",
    "qa_chain.invoke(\"Are the customers satisfied with the in-flight service?\")"
   ]
  },
  {
   "cell_type": "code",
   "execution_count": 28,
   "metadata": {},
   "outputs": [],
   "source": [
    "\"\"\"Using a prompt template for more customization\"\"\"\n",
    "from langchain.prompts import PromptTemplate\n",
    "\n",
    "# Define the prompt template, given variables 'context' and 'question'\n",
    "template = \"\"\"\n",
    "Use the following pieces of context to answer the question at the end. \n",
    "If you don't know the answer, just say that you don't know, don't try \n",
    "to make up an answer. \n",
    "Keep the answer as concise as possible. Use 1 sentence to sum all points up.\n",
    "______________\n",
    "{context}\n",
    "Question: {question}\n",
    "Helpful Answer:\"\"\"\n",
    "\n",
    "# Construct template\n",
    "qa_with_context_prompt = PromptTemplate.from_template(template)\n",
    "\n",
    "# Construct Retrieval chain, setting llm, retriever and prompt template\n",
    "qa_chain = RetrievalQA.from_chain_type(\n",
    "    llm,\n",
    "    retriever=vec_db.as_retriever(),\n",
    "    return_source_documents=True,\n",
    "    chain_type_kwargs={\"prompt\": qa_with_context_prompt},\n",
    ")\n"
   ]
  },
  {
   "cell_type": "code",
   "execution_count": 29,
   "metadata": {},
   "outputs": [
    {
     "data": {
      "text/plain": [
       "{'query': 'how satisfied iw the customer with the wait times?',\n",
       " 'result': ' The customer mentioned that their outgoing connecting flight with Singapore Airlines was delayed by more than 4 hours. However, they were happy with the landing experience on their return flight. Overall, the wait times did not seem to significantly impact their satisfaction.',\n",
       " 'source_documents': [Document(metadata={'source': 'my_html.html', 'title': 'Singapore Airlines economy class review - Have Wheelchair Will Travel'}, page_content='Reply \\n+ \\n+Julie \\n+ \\n+\\t\\t\\t\\t\\t\\t\\t\\t\\t\\tFebruary 16, 2023 at 1:52 am\\t\\t\\t\\t\\t\\t\\t\\t\\t\\n+ \\n+Hi Joe,\\n+It’s so good that you’ve found the service and price has been right for you to keep flying with Singapore Airlines. \\n+Happy and safe travels when you next fly. \\n+Julie\\n+Reply \\n+ \\n+Lynn Jack \\n+'),\n",
       "  Document(metadata={'source': 'my_html.html', 'title': 'Singapore Airlines economy class review - Have Wheelchair Will Travel'}, page_content='Just back from Asia . My outgoing connecting flight with Singapore airline was delayed by more than 4 hours. Flight out the food was good. First part of connecting flight back to UK was with Scoot airline like flying with Ryan Air. Flight back to the UK on Singapore airline the food not good. As it'),\n",
       "  Document(metadata={'source': 'my_html.html', 'title': 'Singapore Airlines economy class review - Have Wheelchair Will Travel'}, page_content='As it was a night time flight only really saw the flight attendants in first 1-2 hours and last 1-2 hours of 13 hour flight .Needed more drink and snacks. Landing in the UK excellent.'),\n",
       "  Document(metadata={'source': 'my_html.html', 'title': 'Singapore Airlines economy class review - Have Wheelchair Will Travel'}, page_content='I think it’s always tough to go into any situation with high expectations. Even on our ride to the airport our driver was chatting to us about how amazing Singapore Airlines is and how she had never heard a bad word about them. It was therefore difficult not to expect excellence.')]}"
      ]
     },
     "execution_count": 29,
     "metadata": {},
     "output_type": "execute_result"
    }
   ],
   "source": [
    "# invoke with query\n",
    "qa_chain.invoke({\"query\": \"how satisfied is the customer with the wait times?\"})"
   ]
  },
  {
   "cell_type": "code",
   "execution_count": null,
   "metadata": {},
   "outputs": [],
   "source": [
    "import torch\n",
    "from torch import nn\n",
    "\n",
    "class diffuser(nn.Module):\n",
    "    def __init__(self):\n",
    "        pass\n",
    "\n",
    "    def position_embed(t, d_embed):\n",
    "        sins = torch.arrange((2, t))\n",
    "        coses = torch.arrange((2, t))\n",
    "\n",
    "        t_embed = nn.functional.one_hot(np.tensor(t), num_classes=d_embed)\n",
    "\n",
    "        embedded = torch.matmul()\n"
   ]
  }
 ],
 "metadata": {
  "kernelspec": {
   "display_name": "Python 3",
   "language": "python",
   "name": "python3"
  },
  "language_info": {
   "codemirror_mode": {
    "name": "ipython",
    "version": 3
   },
   "file_extension": ".py",
   "mimetype": "text/x-python",
   "name": "python",
   "nbconvert_exporter": "python",
   "pygments_lexer": "ipython3",
   "version": "3.11.6"
  }
 },
 "nbformat": 4,
 "nbformat_minor": 2
}
